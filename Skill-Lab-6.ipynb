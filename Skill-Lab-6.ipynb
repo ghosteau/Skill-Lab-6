{
 "cells": [
  {
   "cell_type": "markdown",
   "id": "02e934e4-0260-48d0-9d8b-e28bdfaf6c3d",
   "metadata": {},
   "source": [
    "# Skill Lab 6\n",
    "## By Manny McGrail"
   ]
  },
  {
   "cell_type": "code",
   "execution_count": 2,
   "id": "94c9a3e0-8633-4a92-86f4-7a0e758348fd",
   "metadata": {},
   "outputs": [
    {
     "name": "stdin",
     "output_type": "stream",
     "text": [
      "Enter your name:  Manny\n",
      "Enter a word:  Python Programming\n"
     ]
    },
    {
     "name": "stdout",
     "output_type": "stream",
     "text": [
      "Your scrambled name: nnMya\n",
      "Your scrambled word: mrogPogahynirPntm \n"
     ]
    }
   ],
   "source": [
    "import random\n",
    "\n",
    "def name_scramble(name, word):\n",
    "    scrambled_name = ''.join(random.sample(name, len(name)))\n",
    "    scrambled_word = ''.join(random.sample(word, len(word)))\n",
    "    print(f\"Your scrambled name: {scrambled_name}\")\n",
    "    print(f\"Your scrambled word: {scrambled_word}\")\n",
    "\n",
    "name = input(\"Enter your name: \")\n",
    "word = input(\"Enter a word: \")\n",
    "\n",
    "name_scramble(name, word)"
   ]
  }
 ],
 "metadata": {
  "kernelspec": {
   "display_name": "Python 3 (ipykernel)",
   "language": "python",
   "name": "python3"
  },
  "language_info": {
   "codemirror_mode": {
    "name": "ipython",
    "version": 3
   },
   "file_extension": ".py",
   "mimetype": "text/x-python",
   "name": "python",
   "nbconvert_exporter": "python",
   "pygments_lexer": "ipython3",
   "version": "3.12.8"
  }
 },
 "nbformat": 4,
 "nbformat_minor": 5
}
